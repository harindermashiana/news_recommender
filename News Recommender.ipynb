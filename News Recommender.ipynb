{
 "cells": [
  {
   "cell_type": "code",
   "execution_count": 18,
   "metadata": {},
   "outputs": [],
   "source": [
    "import pandas as pd\n",
    "articles=pd.read_csv(\"news_articles.csv\")"
   ]
  },
  {
   "cell_type": "code",
   "execution_count": 19,
   "metadata": {},
   "outputs": [],
   "source": [
    "from nltk.tokenize import RegexpTokenizer\n",
    "from stop_words import get_stop_words\n",
    "from nltk.stem.porter import PorterStemmer\n",
    "from gensim import corpora, models,similarities\n",
    "import gensim"
   ]
  },
  {
   "cell_type": "code",
   "execution_count": 20,
   "metadata": {},
   "outputs": [],
   "source": [
    "tokenizer = RegexpTokenizer(r'\\w+')\n",
    "\n",
    "# create English stop words list\n",
    "en_stop = get_stop_words('en')\n",
    "en_stop.append('will')\n",
    "# Create p_stemmer of class PorterStemmer\n",
    "p_stemmer = PorterStemmer()"
   ]
  },
  {
   "cell_type": "code",
   "execution_count": 21,
   "metadata": {},
   "outputs": [],
   "source": [
    "doc_set=articles['Content']\n",
    "texts = []"
   ]
  },
  {
   "cell_type": "code",
   "execution_count": 22,
   "metadata": {},
   "outputs": [],
   "source": [
    "ln=[]\n",
    "for av in doc_set:\n",
    "    ln.append(len(av))\n",
    "tim=[]\n",
    "for op in ln:\n",
    "    tim.append(int(op/5))"
   ]
  },
  {
   "cell_type": "code",
   "execution_count": 23,
   "metadata": {},
   "outputs": [],
   "source": [
    "for i in doc_set:\n",
    "    # clean and tokenize document string\n",
    "    raw = i.lower()\n",
    "    tokens = tokenizer.tokenize(raw)\n",
    "\n",
    "    # remove stop words from tokens\n",
    "    stopped_tokens = [i for i in tokens if not i in en_stop]\n",
    "    \n",
    "    # stem tokens\n",
    "    stemmed_tokens1 = [p_stemmer.stem(i) for i in stopped_tokens]\n",
    "    stemmed_tokens=[]\n",
    "    for q in range(len(stemmed_tokens1)):\n",
    "        if(len(stemmed_tokens1[q])!=1):\n",
    "            stemmed_tokens.append(stemmed_tokens1[q])\n",
    "        else:\n",
    "            continue\n",
    "       \n",
    "    # add tokens to list\n",
    "    texts.append(stemmed_tokens)"
   ]
  },
  {
   "cell_type": "code",
   "execution_count": null,
   "metadata": {},
   "outputs": [],
   "source": []
  },
  {
   "cell_type": "code",
   "execution_count": 24,
   "metadata": {},
   "outputs": [],
   "source": [
    "# turn our tokenized documents into a id <-> term dictionary\n",
    "dictionary = corpora.Dictionary(texts)\n",
    "# convert tokenized documents into a document-term matrix\n",
    "corpus = [dictionary.doc2bow(text) for text in texts]"
   ]
  },
  {
   "cell_type": "code",
   "execution_count": 25,
   "metadata": {},
   "outputs": [],
   "source": [
    "ldamodel = gensim.models.ldamodel.LdaModel(corpus, num_topics=50, id2word = dictionary, passes=5)"
   ]
  },
  {
   "cell_type": "code",
   "execution_count": 26,
   "metadata": {},
   "outputs": [],
   "source": [
    "Xx=[]   \n",
    "for dox in corpus:\n",
    "    c=ldamodel.get_document_topics(dox)\n",
    "    Xx.append(c)"
   ]
  },
  {
   "cell_type": "code",
   "execution_count": 27,
   "metadata": {},
   "outputs": [
    {
     "data": {
      "text/plain": [
       "(4831, 50)"
      ]
     },
     "execution_count": 27,
     "metadata": {},
     "output_type": "execute_result"
    }
   ],
   "source": [
    "import numpy as np\n",
    "x=np.zeros(shape=(4831,50))\n",
    "x.shape"
   ]
  },
  {
   "cell_type": "code",
   "execution_count": 30,
   "metadata": {},
   "outputs": [],
   "source": [
    "for i in range(4318):\n",
    "    foc=Xx[i]\n",
    "    for v in foc:\n",
    "        x[i,v[0]]=v[1]\n",
    "a = np.asarray(x)\n",
    "np.savetxt(\"foo1.csv\", a, delimiter=\",\")"
   ]
  },
  {
   "cell_type": "code",
   "execution_count": 31,
   "metadata": {},
   "outputs": [
    {
     "data": {
      "text/plain": [
       "'0.023*\"tata\" + 0.019*\"said\" + 0.017*\"govern\" + 0.012*\"rajan\" + 0.011*\"land\" + 0.010*\"report\" + 0.008*\"pension\" + 0.007*\"state\" + 0.007*\"group\" + 0.007*\"institut\"'"
      ]
     },
     "execution_count": 31,
     "metadata": {},
     "output_type": "execute_result"
    }
   ],
   "source": [
    "ldamodel.print_topic(49)"
   ]
  },
  {
   "cell_type": "code",
   "execution_count": 32,
   "metadata": {},
   "outputs": [],
   "source": [
    "from sklearn.cluster import KMeans"
   ]
  },
  {
   "cell_type": "code",
   "execution_count": 33,
   "metadata": {},
   "outputs": [],
   "source": [
    "wcss = []\n",
    "for i in range(1, 25):\n",
    "    kmeans = KMeans(n_clusters = i, init = 'k-means++', random_state = 42)\n",
    "    kmeans.fit(x)\n",
    "    wcss.append(kmeans.inertia_)"
   ]
  },
  {
   "cell_type": "code",
   "execution_count": 34,
   "metadata": {},
   "outputs": [
    {
     "data": {
      "image/png": "[encoded data removed]",
      "text/plain": [
       "<Figure size 432x288 with 1 Axes>"
      ]
     },
     "metadata": {},
     "output_type": "display_data"
    }
   ],
   "source": [
    "import matplotlib.pyplot as plt\n",
    "%matplotlib inline\n",
    "plt.plot(range(1, 25), wcss)\n",
    "plt.title('The Elbow Method')\n",
    "plt.xlabel('Number of clusters')\n",
    "plt.ylabel('WCSS')\n",
    "plt.xticks(range(1, 25))\n",
    "plt.grid(True)\n",
    "plt.show()"
   ]
  },
  {
   "cell_type": "code",
   "execution_count": 35,
   "metadata": {},
   "outputs": [],
   "source": [
    "kmeans=KMeans(n_clusters = 7,init='k-means++',max_iter=300,n_init=10,random_state=0)\n",
    "ykmeans=kmeans.fit(x)"
   ]
  },
  {
   "cell_type": "code",
   "execution_count": 36,
   "metadata": {},
   "outputs": [],
   "source": [
    "from pandas import DataFrame"
   ]
  },
  {
   "cell_type": "code",
   "execution_count": 37,
   "metadata": {
    "scrolled": true
   },
   "outputs": [],
   "source": [
    "cluster_map = pd.DataFrame()\n",
    "cluster_map['cluster'] = ykmeans.labels_"
   ]
  },
  {
   "cell_type": "code",
   "execution_count": 38,
   "metadata": {},
   "outputs": [],
   "source": [
    "cluster1=articles['Article_Id'][ykmeans.labels_==0]\n",
    "cluster2=articles['Article_Id'][ykmeans.labels_==1]\n",
    "cluster3=articles['Article_Id'][ykmeans.labels_==2]\n",
    "cluster4=articles['Article_Id'][ykmeans.labels_==3]\n",
    "cluster5=articles['Article_Id'][ykmeans.labels_==4]\n",
    "cluster6=articles['Article_Id'][ykmeans.labels_==5]\n",
    "cluster7=articles['Article_Id'][ykmeans.labels_==6]\n",
    "clusclus=[cluster1,cluster2,cluster3,cluster4,cluster5,cluster6,cluster7]"
   ]
  },
  {
   "cell_type": "markdown",
   "metadata": {},
   "source": [
    "# difference between two documents"
   ]
  },
  {
   "cell_type": "code",
   "execution_count": 39,
   "metadata": {},
   "outputs": [],
   "source": [
    "lsi = models.LsiModel(corpus, id2word=dictionary, num_topics=7)"
   ]
  },
  {
   "cell_type": "code",
   "execution_count": 40,
   "metadata": {},
   "outputs": [],
   "source": [
    "def thisdoc(doc):\n",
    "    doc = doc\n",
    "    vec_bow = dictionary.doc2bow(doc.lower().split())\n",
    "    vec_lsi = lsi[vec_bow]\n",
    "    return vec_lsi"
   ]
  },
  {
   "cell_type": "code",
   "execution_count": 41,
   "metadata": {},
   "outputs": [
    {
     "name": "stderr",
     "output_type": "stream",
     "text": [
      "F:\\anaconda\\lib\\site-packages\\gensim\\matutils.py:737: FutureWarning: Conversion of the second argument of issubdtype from `int` to `np.signedinteger` is deprecated. In future, it will be treated as `np.int32 == np.dtype(int).type`.\n",
      "  if np.issubdtype(vec.dtype, np.int):\n"
     ]
    }
   ],
   "source": [
    "corpus1=[corpus[i] for i in cluster1]\n",
    "corpus2=[corpus[i] for i in cluster2]\n",
    "corpus3=[corpus[i] for i in cluster3]\n",
    "corpus4=[corpus[i] for i in cluster4]\n",
    "corpus5=[corpus[i] for i in cluster5]\n",
    "corpus6=[corpus[i] for i in cluster6]\n",
    "corpus7=[corpus[i] for i in cluster7]\n",
    "index1=similarities.MatrixSimilarity(lsi[corpus1])\n",
    "index2=similarities.MatrixSimilarity(lsi[corpus2])\n",
    "index3=similarities.MatrixSimilarity(lsi[corpus3])\n",
    "index4=similarities.MatrixSimilarity(lsi[corpus4])\n",
    "index5=similarities.MatrixSimilarity(lsi[corpus5])\n",
    "index6=similarities.MatrixSimilarity(lsi[corpus6])\n",
    "index7=similarities.MatrixSimilarity(lsi[corpus7])\n"
   ]
  },
  {
   "cell_type": "code",
   "execution_count": 42,
   "metadata": {},
   "outputs": [
    {
     "name": "stderr",
     "output_type": "stream",
     "text": [
      "F:\\anaconda\\lib\\site-packages\\gensim\\matutils.py:737: FutureWarning: Conversion of the second argument of issubdtype from `int` to `np.signedinteger` is deprecated. In future, it will be treated as `np.int32 == np.dtype(int).type`.\n",
      "  if np.issubdtype(vec.dtype, np.int):\n"
     ]
    }
   ],
   "source": [
    "index=similarities.MatrixSimilarity(lsi[corpus])"
   ]
  },
  {
   "cell_type": "code",
   "execution_count": 43,
   "metadata": {},
   "outputs": [],
   "source": [
    "def diff1(vec):\n",
    "    vec_lsi=thisdoc(vec)\n",
    "    sims=index[vec_lsi]\n",
    "    sims = sorted(enumerate(sims), key=lambda item: -item[1])\n",
    "    t=[]\n",
    "    for i in range(len(sims)):\n",
    "        t.append(sims[i][0])\n",
    "    return t[:20]"
   ]
  },
  {
   "cell_type": "code",
   "execution_count": 44,
   "metadata": {},
   "outputs": [],
   "source": [
    "def diff(clu,vec):\n",
    "    vec_lsi=thisdoc(vec)\n",
    "    sims=0\n",
    "    if(clu==0):\n",
    "            sims = index1[vec_lsi]\n",
    "    if(clu==1):\n",
    "            sims = index2[vec_lsi]\n",
    "    if(clu==2):\n",
    "            sims = index3[vec_lsi]\n",
    "    if(clu==3):\n",
    "            sims = index4[vec_lsi]\n",
    "    if(clu==4):\n",
    "            sims = index5[vec_lsi]\n",
    "    if(clu==5):\n",
    "            sims = index6[vec_lsi]\n",
    "    if(clu==6):\n",
    "            sims = index7[vec_lsi]\n",
    "    \n",
    "    sims = sorted(enumerate(sims), key=lambda item: -item[1])\n",
    "    t=[]\n",
    "    for i in range(len(sims)):\n",
    "        t.append(sims[i][0])\n",
    "    return t[:20]"
   ]
  },
  {
   "cell_type": "markdown",
   "metadata": {},
   "source": [
    "# Generative model for Sessions\n",
    "# Got 200 users with 1 session alloted to each one of them and being presented with 10 documents."
   ]
  },
  {
   "cell_type": "code",
   "execution_count": 45,
   "metadata": {},
   "outputs": [],
   "source": [
    "import random\n",
    "from random import shuffle\n",
    "def artselran():\n",
    "    artli=[]\n",
    "    artli.append(random.randint(np.min(np.array(cluster1)), np.max(np.array(cluster1))))\n",
    "    artli.append(random.randint(np.min(np.array(cluster2)), np.max(np.array(cluster2))))\n",
    "    artli.append(random.randint(np.min(np.array(cluster3)), np.max(np.array(cluster3))))\n",
    "    artli.append(random.randint(np.min(np.array(cluster4)), np.max(np.array(cluster4))))\n",
    "    artli.append(random.randint(np.min(np.array(cluster5)), np.max(np.array(cluster5))))\n",
    "    artli.append(random.randint(np.min(np.array(cluster6)), np.max(np.array(cluster6))))\n",
    "    artli.append(random.randint(np.min(np.array(cluster7)), np.max(np.array(cluster7))))\n",
    "    las3=[random.randint(1,7),random.randint(1,7),random.randint(1,7)]\n",
    "    for i in las3:\n",
    "        artli.append(random.randint(np.min(np.array(clusclus[i-1])), np.max(np.array(clusclus[i-1]))))\n",
    "    return artli\n"
   ]
  },
  {
   "cell_type": "markdown",
   "metadata": {},
   "source": [
    "time_spent = mixture model of high readers, medium readers, low readers\n",
    "click = poisson distribution, high clicks for first articles and low clicks for lower articles\n",
    "sessions = number of sessions per user decrease exponentially"
   ]
  },
  {
   "cell_type": "code",
   "execution_count": 47,
   "metadata": {},
   "outputs": [
    {
     "data": {
      "text/plain": [
       "[<matplotlib.lines.Line2D at 0x1edc863bc50>]"
      ]
     },
     "execution_count": 47,
     "metadata": {},
     "output_type": "execute_result"
    },
    {
     "data": {
      "image/png": "[encoded data removed]",
      "text/plain": [
       "<Figure size 432x288 with 1 Axes>"
      ]
     },
     "metadata": {},
     "output_type": "display_data"
    }
   ],
   "source": [
    "from scipy import stats\n",
    "n=np.arange(0,10)\n",
    "rate=1.5\n",
    "y=stats.poisson.pmf(n,rate)\n",
    "#y=np.random.exp(0.4,10)\n",
    "noise=np.random.lognormal(0,0.1,10)\n",
    "#y=y+noise\n",
    "#noise=np.random.randint(50,size=(10))\n",
    "#plt.plot(n,y+noise)\n",
    "noise=abs(np.random.randn(10))\n",
    "y=y+(noise)/5\n",
    "plt.plot(n,y)"
   ]
  },
  {
   "cell_type": "code",
   "execution_count": 48,
   "metadata": {
    "scrolled": true
   },
   "outputs": [],
   "source": [
    "#time spent\n",
    "from scipy import stats\n",
    "def firstclick():\n",
    " n=np.arange(0,10)\n",
    " rate=1.5\n",
    " y=stats.poisson.pmf(n,rate)\n",
    "#y=np.random.exp(0.4,10)\n",
    " noise=np.random.lognormal(0,0.1,10)\n",
    "#y=y+noise\n",
    "#noise=np.random.randint(50,size=(10))\n",
    "#plt.plot(n,y+noise)\n",
    " noise=abs(np.random.randn(10))\n",
    " y=y+(noise)/5\n",
    " return y>0.3\n"
   ]
  },
  {
   "cell_type": "code",
   "execution_count": 49,
   "metadata": {},
   "outputs": [
    {
     "data": {
      "text/plain": [
       "[<matplotlib.lines.Line2D at 0x1edc8580240>]"
      ]
     },
     "execution_count": 49,
     "metadata": {},
     "output_type": "execute_result"
    },
    {
     "data": {
      "image/png": "[encoded data removed]",
      "text/plain": [
       "<Figure size 432x288 with 1 Axes>"
      ]
     },
     "metadata": {},
     "output_type": "display_data"
    }
   ],
   "source": [
    "\n",
    "#time spent is a gaussian mixture model of three distributions with low, medium and high mean\n",
    "x8=np.arange(0,2500,1)\n",
    "y1=stats.norm.pdf(x8,2000,500)\n",
    "y2=stats.norm.pdf(x8,1000,500)\n",
    "y3=stats.norm.pdf(x8,0,500)\n",
    "plt.grid(True)\n",
    "t=y1+y2+y3\n",
    "plt.plot(x8,t)\n",
    "#plt.plot(x,y2)\n",
    "#plt.plot(x,y3)"
   ]
  },
  {
   "cell_type": "code",
   "execution_count": 50,
   "metadata": {},
   "outputs": [],
   "source": [
    "#Time distribution\n",
    "def random_pick_timespent(some_list, probabilities):\n",
    "    x = random.uniform(0, 1)\n",
    "    cumulative_probability = 0.0\n",
    "    for item, item_probability in zip(some_list, probabilities):\n",
    "        cumulative_probability += item_probability\n",
    "        if x < cumulative_probability: break\n",
    "    return item\n",
    "def timerandom_pick():\n",
    "    timeli=[]\n",
    "    for i in range(10):\n",
    "        v=random_pick_timespent(x8,t)\n",
    "        timeli.append(v)\n",
    "    return timeli\n"
   ]
  },
  {
   "cell_type": "code",
   "execution_count": 51,
   "metadata": {},
   "outputs": [
    {
     "name": "stdout",
     "output_type": "stream",
     "text": [
      "[1100, 1200, 1000, 800, 1000, 900, 900, 600, 600, 600, 0, 300, 0, 200]\n"
     ]
    },
    {
     "data": {
      "image/png": "[encoded data removed]",
      "text/plain": [
       "<Figure size 432x288 with 1 Axes>"
      ]
     },
     "metadata": {},
     "output_type": "display_data"
    }
   ],
   "source": [
    "#users per session distribution\n",
    "numusers=[]\n",
    "q=0.5\n",
    "p=[15,14,13,12,11,10,9,8,7,6,5,4,3,2,1,0]\n",
    "p=np.array(p)\n",
    "o=q*np.exp(-q*p)\n",
    "plt.plot(p,o)\n",
    "def numu(i):\n",
    "    x = random.uniform(0, 1)\n",
    "    cumulative_probability = 0.0\n",
    "    for item, item_probability in zip(p, o):\n",
    "        cumulative_probability += item_probability\n",
    "        if x < cumulative_probability: break\n",
    "    return (15-item-i)*100\n",
    "for i in range(20):\n",
    "    f=numu(i)\n",
    "    if(f<0):\n",
    "        break\n",
    "    numusers.append(f)\n",
    "print(numusers)"
   ]
  },
  {
   "cell_type": "code",
   "execution_count": null,
   "metadata": {
    "scrolled": true
   },
   "outputs": [],
   "source": [
    "nus=[300,200,100]\n",
    "import operator\n",
    "our=pd.DataFrame(columns=['user','session','article','article rank','click','time spent'])\n",
    "for b in nus:\n",
    "    for l in range(1,b+1): #remember that first users keep on occuring only the last users are dropping out\n",
    "        userid=[l]*10\n",
    "        if l in list(our['user']):\n",
    "            yesforuser=our.index[(our['click']==True) & (our['user']==l)].tolist()\n",
    "            #print(l)\n",
    "            \n",
    "            oldtime=our['time spent'][yesforuser]\n",
    "            articleliked=our['article'][yesforuser]\n",
    "            #articleliked=list(our['article'][yesforuser])\n",
    "            article_index=dict(zip(yesforuser,articleliked))\n",
    "            time_index=dict(zip(yesforuser,oldtime)) \n",
    "            for key in time_index:\n",
    "                time_index[key]=abs(tim[key]-time_index[key])\n",
    "            mid=sorted(time_index.items(),key=operator.itemgetter(0),reverse=False)\n",
    "            time_index=dict((h,g) for h, g in mid)\n",
    "            clusterval=[]\n",
    "            \"\"\"for key in time_index:\n",
    "                test=article_index[key]\n",
    "                mn=0\n",
    "                for val in clusclus:\n",
    "                    if test in list(val):\n",
    "                        clusterval.append(mn)\n",
    "                    mn=mn+1\"\"\"\n",
    "            artic=[]\n",
    "            def reject_outliers(data):\n",
    "                        m = 2\n",
    "                        u = np.mean(data)\n",
    "                        s = np.std(data)\n",
    "                        filtered = [e for e in data if (e < u +  s )]\n",
    "                        return list(filtered)\n",
    "            if(len(list(time_index.values()))>1):\n",
    "                #print(\"hey\")\n",
    "                ch=reject_outliers(list(time_index.values()))\n",
    "            else:\n",
    "                ch=list(time_index.values())\n",
    "            #print(list(time_index.values()))\n",
    "            #print(ch)\n",
    "           \n",
    "            for key in time_index:\n",
    "                if(time_index[key] in ch):\n",
    "                        dc=articles['Content'][key]\n",
    "                        artic.append(diff1(dc))\n",
    "            sugg=[]\n",
    "            k=0\n",
    "            while(len(sugg)<10):\n",
    "                for z in artic:\n",
    "                    if(z[k] in list(our.loc[our['user']==l]['article'])):\n",
    "                        continue\n",
    "                    else:\n",
    "                        sugg.append(z[k])\n",
    "                k=k+1\n",
    "            article_id=sugg[0:10]\n",
    "            session_id=[max(our.loc[our['user']==l]['session'])+1]*10\n",
    "            click=firstclick()\n",
    "            timespent=timerandom_pick()\n",
    "            rank=[1,2,3,4,5,6,7,8,9,10]\n",
    "    \n",
    "        else:    \n",
    "            article_id=artselran()\n",
    "            #print(article_id)\n",
    "            rank=[1,2,3,4,5,6,7,8,9,10]\n",
    "            session_id=[1]*10\n",
    "            click=firstclick()\n",
    "            timespent=timerandom_pick()\n",
    "            for i in range(0,10):\n",
    "                if(click[i]==False):\n",
    "                    timespent[i]=0\n",
    "        our1=pd.DataFrame(columns=['user','session','article','article rank','click','time spent'])\n",
    "        #print(len(article_id),len(session_id))\n",
    "        our1['user']=userid\n",
    "        our1['session']=session_id\n",
    "        our1['article']=article_id\n",
    "        our1['article rank']=rank\n",
    "        our1['click']=click\n",
    "        our1['time spent']=timespent\n",
    "        our=our.append(our1)\n",
    "    #print(\"next\")\n",
    "    our=our.reset_index(drop=True)"
   ]
  },
  {
   "cell_type": "code",
   "execution_count": 80,
   "metadata": {},
   "outputs": [
    {
     "data": {
      "text/html": [
       "<div>\n",
       "<style scoped>\n",
       "    .dataframe tbody tr th:only-of-type {\n",
       "        vertical-align: middle;\n",
       "    }\n",
       "\n",
       "    .dataframe tbody tr th {\n",
       "        vertical-align: top;\n",
       "    }\n",
       "\n",
       "    .dataframe thead th {\n",
       "        text-align: right;\n",
       "    }\n",
       "</style>\n",
       "<table border=\"1\" class=\"dataframe\">\n",
       "  <thead>\n",
       "    <tr style=\"text-align: right;\">\n",
       "      <th></th>\n",
       "      <th>article</th>\n",
       "      <th>session</th>\n",
       "    </tr>\n",
       "  </thead>\n",
       "  <tbody>\n",
       "    <tr>\n",
       "      <th>0</th>\n",
       "      <td>474</td>\n",
       "      <td>1</td>\n",
       "    </tr>\n",
       "    <tr>\n",
       "      <th>1</th>\n",
       "      <td>571</td>\n",
       "      <td>1</td>\n",
       "    </tr>\n",
       "    <tr>\n",
       "      <th>2</th>\n",
       "      <td>883</td>\n",
       "      <td>1</td>\n",
       "    </tr>\n",
       "    <tr>\n",
       "      <th>3</th>\n",
       "      <td>228</td>\n",
       "      <td>1</td>\n",
       "    </tr>\n",
       "    <tr>\n",
       "      <th>4</th>\n",
       "      <td>3699</td>\n",
       "      <td>1</td>\n",
       "    </tr>\n",
       "    <tr>\n",
       "      <th>5</th>\n",
       "      <td>1046</td>\n",
       "      <td>1</td>\n",
       "    </tr>\n",
       "    <tr>\n",
       "      <th>6</th>\n",
       "      <td>3280</td>\n",
       "      <td>1</td>\n",
       "    </tr>\n",
       "    <tr>\n",
       "      <th>7</th>\n",
       "      <td>1562</td>\n",
       "      <td>1</td>\n",
       "    </tr>\n",
       "    <tr>\n",
       "      <th>8</th>\n",
       "      <td>651</td>\n",
       "      <td>1</td>\n",
       "    </tr>\n",
       "    <tr>\n",
       "      <th>9</th>\n",
       "      <td>499</td>\n",
       "      <td>1</td>\n",
       "    </tr>\n",
       "    <tr>\n",
       "      <th>3000</th>\n",
       "      <td>2090</td>\n",
       "      <td>2</td>\n",
       "    </tr>\n",
       "    <tr>\n",
       "      <th>3001</th>\n",
       "      <td>4087</td>\n",
       "      <td>2</td>\n",
       "    </tr>\n",
       "    <tr>\n",
       "      <th>3002</th>\n",
       "      <td>2416</td>\n",
       "      <td>2</td>\n",
       "    </tr>\n",
       "    <tr>\n",
       "      <th>3003</th>\n",
       "      <td>2864</td>\n",
       "      <td>2</td>\n",
       "    </tr>\n",
       "    <tr>\n",
       "      <th>3004</th>\n",
       "      <td>2895</td>\n",
       "      <td>2</td>\n",
       "    </tr>\n",
       "    <tr>\n",
       "      <th>3005</th>\n",
       "      <td>1701</td>\n",
       "      <td>2</td>\n",
       "    </tr>\n",
       "    <tr>\n",
       "      <th>3006</th>\n",
       "      <td>4758</td>\n",
       "      <td>2</td>\n",
       "    </tr>\n",
       "    <tr>\n",
       "      <th>3007</th>\n",
       "      <td>3782</td>\n",
       "      <td>2</td>\n",
       "    </tr>\n",
       "    <tr>\n",
       "      <th>3008</th>\n",
       "      <td>2934</td>\n",
       "      <td>2</td>\n",
       "    </tr>\n",
       "    <tr>\n",
       "      <th>3009</th>\n",
       "      <td>2871</td>\n",
       "      <td>2</td>\n",
       "    </tr>\n",
       "    <tr>\n",
       "      <th>5000</th>\n",
       "      <td>2088</td>\n",
       "      <td>3</td>\n",
       "    </tr>\n",
       "    <tr>\n",
       "      <th>5001</th>\n",
       "      <td>3489</td>\n",
       "      <td>3</td>\n",
       "    </tr>\n",
       "    <tr>\n",
       "      <th>5002</th>\n",
       "      <td>454</td>\n",
       "      <td>3</td>\n",
       "    </tr>\n",
       "    <tr>\n",
       "      <th>5003</th>\n",
       "      <td>2691</td>\n",
       "      <td>3</td>\n",
       "    </tr>\n",
       "    <tr>\n",
       "      <th>5004</th>\n",
       "      <td>3795</td>\n",
       "      <td>3</td>\n",
       "    </tr>\n",
       "    <tr>\n",
       "      <th>5005</th>\n",
       "      <td>1963</td>\n",
       "      <td>3</td>\n",
       "    </tr>\n",
       "    <tr>\n",
       "      <th>5006</th>\n",
       "      <td>2982</td>\n",
       "      <td>3</td>\n",
       "    </tr>\n",
       "    <tr>\n",
       "      <th>5007</th>\n",
       "      <td>1794</td>\n",
       "      <td>3</td>\n",
       "    </tr>\n",
       "    <tr>\n",
       "      <th>5008</th>\n",
       "      <td>3248</td>\n",
       "      <td>3</td>\n",
       "    </tr>\n",
       "    <tr>\n",
       "      <th>5009</th>\n",
       "      <td>4297</td>\n",
       "      <td>3</td>\n",
       "    </tr>\n",
       "  </tbody>\n",
       "</table>\n",
       "</div>"
      ],
      "text/plain": [
       "     article session\n",
       "0        474       1\n",
       "1        571       1\n",
       "2        883       1\n",
       "3        228       1\n",
       "4       3699       1\n",
       "5       1046       1\n",
       "6       3280       1\n",
       "7       1562       1\n",
       "8        651       1\n",
       "9        499       1\n",
       "3000    2090       2\n",
       "3001    4087       2\n",
       "3002    2416       2\n",
       "3003    2864       2\n",
       "3004    2895       2\n",
       "3005    1701       2\n",
       "3006    4758       2\n",
       "3007    3782       2\n",
       "3008    2934       2\n",
       "3009    2871       2\n",
       "5000    2088       3\n",
       "5001    3489       3\n",
       "5002     454       3\n",
       "5003    2691       3\n",
       "5004    3795       3\n",
       "5005    1963       3\n",
       "5006    2982       3\n",
       "5007    1794       3\n",
       "5008    3248       3\n",
       "5009    4297       3"
      ]
     },
     "execution_count": 80,
     "metadata": {},
     "output_type": "execute_result"
    }
   ],
   "source": [
    "our[['article','session']][our['user']==1]"
   ]
  },
  {
   "cell_type": "code",
   "execution_count": null,
   "metadata": {},
   "outputs": [],
   "source": []
  },
  {
   "cell_type": "code",
   "execution_count": null,
   "metadata": {},
   "outputs": [],
   "source": []
  },
  {
   "cell_type": "code",
   "execution_count": null,
   "metadata": {},
   "outputs": [],
   "source": []
  }
 ],
 "metadata": {
  "kernelspec": {
   "display_name": "Python 3",
   "language": "python",
   "name": "python3"
  },
  "language_info": {
   "codemirror_mode": {
    "name": "ipython",
    "version": 3
   },
   "file_extension": ".py",
   "mimetype": "text/x-python",
   "name": "python",
   "nbconvert_exporter": "python",
   "pygments_lexer": "ipython3",
   "version": "3.6.5"
  }
 },
 "nbformat": 4,
 "nbformat_minor": 2
}
